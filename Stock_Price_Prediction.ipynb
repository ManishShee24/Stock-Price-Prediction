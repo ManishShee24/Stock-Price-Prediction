{
 "cells": [
  {
   "cell_type": "markdown",
   "metadata": {},
   "source": [
    "<h1 style='color:black' align='center'>Stock Price Prediction</h1>"
   ]
  },
  {
   "cell_type": "markdown",
   "metadata": {},
   "source": [
    "<h2 style='color:blue'>Importing the Libraries</h2>"
   ]
  },
  {
   "cell_type": "code",
   "execution_count": 1,
   "metadata": {},
   "outputs": [],
   "source": [
    "import numpy as np\n",
    "import pandas as pd\n",
    "import matplotlib.pyplot as plt\n",
    "import seaborn as sns\n",
    "import yfinance as yf"
   ]
  },
  {
   "cell_type": "markdown",
   "metadata": {},
   "source": [
    "<h2 style='color:blue'>Download Dataset</h2>"
   ]
  },
  {
   "cell_type": "code",
   "execution_count": 2,
   "metadata": {},
   "outputs": [
    {
     "name": "stderr",
     "output_type": "stream",
     "text": [
      "[*********************100%%**********************]  1 of 1 completed\n"
     ]
    }
   ],
   "source": [
    "# !pip install quandl\n",
    "# import quandl\n",
    "\n",
    "start = '2013-01-01'\n",
    "end = '2023-12-31'\n",
    "stock = 'GOOG'\n",
    "\n",
    "stock_data = yf.download(stock, start, end)"
   ]
  },
  {
   "cell_type": "markdown",
   "metadata": {},
   "source": [
    "<h2 style='color:blue'>Load the Dataset</h2>"
   ]
  },
  {
   "cell_type": "code",
   "execution_count": 3,
   "metadata": {},
   "outputs": [
    {
     "data": {
      "text/html": [
       "<div>\n",
       "<style scoped>\n",
       "    .dataframe tbody tr th:only-of-type {\n",
       "        vertical-align: middle;\n",
       "    }\n",
       "\n",
       "    .dataframe tbody tr th {\n",
       "        vertical-align: top;\n",
       "    }\n",
       "\n",
       "    .dataframe thead th {\n",
       "        text-align: right;\n",
       "    }\n",
       "</style>\n",
       "<table border=\"1\" class=\"dataframe\">\n",
       "  <thead>\n",
       "    <tr style=\"text-align: right;\">\n",
       "      <th></th>\n",
       "      <th>Date</th>\n",
       "      <th>Open</th>\n",
       "      <th>High</th>\n",
       "      <th>Low</th>\n",
       "      <th>Close</th>\n",
       "      <th>Adj Close</th>\n",
       "      <th>Volume</th>\n",
       "    </tr>\n",
       "  </thead>\n",
       "  <tbody>\n",
       "    <tr>\n",
       "      <th>0</th>\n",
       "      <td>2013-01-02</td>\n",
       "      <td>17.918339</td>\n",
       "      <td>18.107130</td>\n",
       "      <td>17.846855</td>\n",
       "      <td>18.013729</td>\n",
       "      <td>18.013729</td>\n",
       "      <td>102033017</td>\n",
       "    </tr>\n",
       "    <tr>\n",
       "      <th>1</th>\n",
       "      <td>2013-01-03</td>\n",
       "      <td>18.055573</td>\n",
       "      <td>18.229919</td>\n",
       "      <td>17.950716</td>\n",
       "      <td>18.024191</td>\n",
       "      <td>18.024191</td>\n",
       "      <td>93075567</td>\n",
       "    </tr>\n",
       "    <tr>\n",
       "      <th>2</th>\n",
       "      <td>2013-01-04</td>\n",
       "      <td>18.165413</td>\n",
       "      <td>18.467529</td>\n",
       "      <td>18.124067</td>\n",
       "      <td>18.380356</td>\n",
       "      <td>18.380356</td>\n",
       "      <td>110954331</td>\n",
       "    </tr>\n",
       "    <tr>\n",
       "      <th>3</th>\n",
       "      <td>2013-01-07</td>\n",
       "      <td>18.317591</td>\n",
       "      <td>18.415474</td>\n",
       "      <td>18.196297</td>\n",
       "      <td>18.300158</td>\n",
       "      <td>18.300158</td>\n",
       "      <td>66476239</td>\n",
       "    </tr>\n",
       "    <tr>\n",
       "      <th>4</th>\n",
       "      <td>2013-01-08</td>\n",
       "      <td>18.319834</td>\n",
       "      <td>18.338762</td>\n",
       "      <td>18.043119</td>\n",
       "      <td>18.264042</td>\n",
       "      <td>18.264042</td>\n",
       "      <td>67295297</td>\n",
       "    </tr>\n",
       "    <tr>\n",
       "      <th>...</th>\n",
       "      <td>...</td>\n",
       "      <td>...</td>\n",
       "      <td>...</td>\n",
       "      <td>...</td>\n",
       "      <td>...</td>\n",
       "      <td>...</td>\n",
       "      <td>...</td>\n",
       "    </tr>\n",
       "    <tr>\n",
       "      <th>2763</th>\n",
       "      <td>2023-12-22</td>\n",
       "      <td>142.130005</td>\n",
       "      <td>143.250000</td>\n",
       "      <td>142.054993</td>\n",
       "      <td>142.720001</td>\n",
       "      <td>142.720001</td>\n",
       "      <td>18494700</td>\n",
       "    </tr>\n",
       "    <tr>\n",
       "      <th>2764</th>\n",
       "      <td>2023-12-26</td>\n",
       "      <td>142.979996</td>\n",
       "      <td>143.945007</td>\n",
       "      <td>142.500000</td>\n",
       "      <td>142.820007</td>\n",
       "      <td>142.820007</td>\n",
       "      <td>11170100</td>\n",
       "    </tr>\n",
       "    <tr>\n",
       "      <th>2765</th>\n",
       "      <td>2023-12-27</td>\n",
       "      <td>142.830002</td>\n",
       "      <td>143.320007</td>\n",
       "      <td>141.050995</td>\n",
       "      <td>141.440002</td>\n",
       "      <td>141.440002</td>\n",
       "      <td>17288400</td>\n",
       "    </tr>\n",
       "    <tr>\n",
       "      <th>2766</th>\n",
       "      <td>2023-12-28</td>\n",
       "      <td>141.850006</td>\n",
       "      <td>142.270004</td>\n",
       "      <td>140.828003</td>\n",
       "      <td>141.279999</td>\n",
       "      <td>141.279999</td>\n",
       "      <td>12192500</td>\n",
       "    </tr>\n",
       "    <tr>\n",
       "      <th>2767</th>\n",
       "      <td>2023-12-29</td>\n",
       "      <td>140.679993</td>\n",
       "      <td>141.434998</td>\n",
       "      <td>139.899994</td>\n",
       "      <td>140.929993</td>\n",
       "      <td>140.929993</td>\n",
       "      <td>14872700</td>\n",
       "    </tr>\n",
       "  </tbody>\n",
       "</table>\n",
       "<p>2768 rows × 7 columns</p>\n",
       "</div>"
      ],
      "text/plain": [
       "           Date        Open        High         Low       Close   Adj Close  \\\n",
       "0    2013-01-02   17.918339   18.107130   17.846855   18.013729   18.013729   \n",
       "1    2013-01-03   18.055573   18.229919   17.950716   18.024191   18.024191   \n",
       "2    2013-01-04   18.165413   18.467529   18.124067   18.380356   18.380356   \n",
       "3    2013-01-07   18.317591   18.415474   18.196297   18.300158   18.300158   \n",
       "4    2013-01-08   18.319834   18.338762   18.043119   18.264042   18.264042   \n",
       "...         ...         ...         ...         ...         ...         ...   \n",
       "2763 2023-12-22  142.130005  143.250000  142.054993  142.720001  142.720001   \n",
       "2764 2023-12-26  142.979996  143.945007  142.500000  142.820007  142.820007   \n",
       "2765 2023-12-27  142.830002  143.320007  141.050995  141.440002  141.440002   \n",
       "2766 2023-12-28  141.850006  142.270004  140.828003  141.279999  141.279999   \n",
       "2767 2023-12-29  140.679993  141.434998  139.899994  140.929993  140.929993   \n",
       "\n",
       "         Volume  \n",
       "0     102033017  \n",
       "1      93075567  \n",
       "2     110954331  \n",
       "3      66476239  \n",
       "4      67295297  \n",
       "...         ...  \n",
       "2763   18494700  \n",
       "2764   11170100  \n",
       "2765   17288400  \n",
       "2766   12192500  \n",
       "2767   14872700  \n",
       "\n",
       "[2768 rows x 7 columns]"
      ]
     },
     "execution_count": 3,
     "metadata": {},
     "output_type": "execute_result"
    }
   ],
   "source": [
    "# data = quandl.get('NSE/TATAGLOBAL')\n",
    "stock_data.reset_index(inplace=True)\n",
    "stock_data"
   ]
  },
  {
   "cell_type": "code",
   "execution_count": 4,
   "metadata": {},
   "outputs": [],
   "source": [
    "ma_100_days = stock_data['Close'].rolling(100).mean()\n",
    "ma_200_days = stock_data.Close.rolling(200).mean()"
   ]
  },
  {
   "cell_type": "code",
   "execution_count": 5,
   "metadata": {},
   "outputs": [
    {
     "data": {
      "text/plain": [
       "<matplotlib.legend.Legend at 0x206b4a336a0>"
      ]
     },
     "execution_count": 5,
     "metadata": {},
     "output_type": "execute_result"
    },
    {
     "data": {
      "image/png": "[encoded data removed]",
      "text/plain": [
       "<Figure size 1000x800 with 1 Axes>"
      ]
     },
     "metadata": {},
     "output_type": "display_data"
    }
   ],
   "source": [
    "# Plotting Figure\n",
    "\n",
    "plt.figure(figsize=(10, 8))\n",
    "plt.plot(ma_100_days, 'r', label='moving average of 100 days')\n",
    "plt.plot(ma_200_days, 'b', label='moving average of 200 days')\n",
    "plt.plot(stock_data['Close'], 'g', label='Closing Price')\n",
    "plt.legend(loc='upper left')"
   ]
  },
  {
   "cell_type": "code",
   "execution_count": 6,
   "metadata": {},
   "outputs": [],
   "source": [
    "# delete all null values\n",
    "stock_data.dropna(inplace=True)"
   ]
  },
  {
   "cell_type": "markdown",
   "metadata": {},
   "source": [
    "<h2 style='color:blue'>Classification Problem: Buy or Sell the Stock</h2>"
   ]
  },
  {
   "cell_type": "code",
   "execution_count": 7,
   "metadata": {},
   "outputs": [],
   "source": [
    "train_data = pd.DataFrame(stock_data.Close[:int(len(stock_data)*0.8)])\n",
    "test_data = pd.DataFrame(stock_data.Close[int(len(stock_data)*0.8):])"
   ]
  },
  {
   "cell_type": "code",
   "execution_count": 10,
   "metadata": {},
   "outputs": [
    {
     "data": {
      "text/plain": [
       "2214"
      ]
     },
     "execution_count": 10,
     "metadata": {},
     "output_type": "execute_result"
    }
   ],
   "source": [
    "train_data.shape[0]"
   ]
  },
  {
   "cell_type": "code",
   "execution_count": 11,
   "metadata": {},
   "outputs": [
    {
     "data": {
      "text/plain": [
       "554"
      ]
     },
     "execution_count": 11,
     "metadata": {},
     "output_type": "execute_result"
    }
   ],
   "source": [
    "test_data.shape[0]"
   ]
  },
  {
   "cell_type": "markdown",
   "metadata": {},
   "source": [
    "<h2 style='color:blue'>Min-Max Scaling</h2>"
   ]
  },
  {
   "cell_type": "code",
   "execution_count": 12,
   "metadata": {},
   "outputs": [],
   "source": [
    "from sklearn.preprocessing import MinMaxScaler\n",
    "\n",
    "mmc = MinMaxScaler(feature_range=(0, 1))\n",
    "scale_train_data = mmc.fit_transform(train_data)"
   ]
  },
  {
   "cell_type": "code",
   "execution_count": 13,
   "metadata": {},
   "outputs": [],
   "source": [
    "X, Y = [], []\n",
    "for i in range(100, scale_train_data.shape[0]):\n",
    "    X.append(scale_train_data[i-100:i])\n",
    "    Y.append(scale_train_data[i, 0])\n",
    "\n",
    "X, Y = np.array(X), np.array(Y)"
   ]
  },
  {
   "cell_type": "code",
   "execution_count": null,
   "metadata": {},
   "outputs": [],
   "source": [
    "# Y = np.where(stock_data['Close'].shift(-1) > stock_data['Close'], 1, -1)"
   ]
  },
  {
   "cell_type": "code",
   "execution_count": 14,
   "metadata": {},
   "outputs": [],
   "source": [
    "# Deep Learning Model\n",
    "from keras.layers import Dense, Dropout, LSTM\n",
    "from keras.models import Sequential"
   ]
  },
  {
   "cell_type": "code",
   "execution_count": 15,
   "metadata": {},
   "outputs": [],
   "source": [
    "model = Sequential()\n",
    "model.add(LSTM(units=50, activation='relu', return_sequences=True,\n",
    "               input_shape=((X.shape[1], 1))))\n",
    "model.add(Dropout(0.2))\n",
    "\n",
    "model.add(LSTM(units=60, activation='relu', return_sequences=True))\n",
    "model.add(Dropout(0.3))\n",
    "\n",
    "model.add(LSTM(units=80, activation='relu', return_sequences=True))\n",
    "model.add(Dropout(0.4))\n",
    "\n",
    "model.add(LSTM(units=100, activation='relu', return_sequences=True))\n",
    "model.add(Dropout(0.5))\n",
    "\n",
    "model.add(LSTM(units=120, activation='relu'))\n",
    "model.add(Dropout(0.6))\n",
    "\n",
    "model.add(Dense(units=1))"
   ]
  },
  {
   "cell_type": "code",
   "execution_count": 16,
   "metadata": {},
   "outputs": [
    {
     "name": "stdout",
     "output_type": "stream",
     "text": [
      "Epoch 1/10\n",
      "67/67 [==============================] - 23s 253ms/step - loss: 0.0324\n",
      "Epoch 2/10\n",
      "67/67 [==============================] - 20s 302ms/step - loss: 0.0066\n",
      "Epoch 3/10\n",
      "67/67 [==============================] - 20s 301ms/step - loss: 0.0057\n",
      "Epoch 4/10\n",
      "67/67 [==============================] - 20s 297ms/step - loss: 0.0052\n",
      "Epoch 5/10\n",
      "67/67 [==============================] - 20s 299ms/step - loss: 0.0049\n",
      "Epoch 6/10\n",
      "67/67 [==============================] - 24s 355ms/step - loss: 0.0041\n",
      "Epoch 7/10\n",
      "67/67 [==============================] - 22s 331ms/step - loss: 0.0041\n",
      "Epoch 8/10\n",
      "67/67 [==============================] - 22s 335ms/step - loss: 0.0037\n",
      "Epoch 9/10\n",
      "67/67 [==============================] - 22s 322ms/step - loss: 0.0040\n",
      "Epoch 10/10\n",
      "67/67 [==============================] - 22s 321ms/step - loss: 0.0039\n"
     ]
    },
    {
     "data": {
      "text/plain": [
       "<keras.src.callbacks.History at 0x206d3266850>"
      ]
     },
     "execution_count": 16,
     "metadata": {},
     "output_type": "execute_result"
    }
   ],
   "source": [
    "model.compile(optimizer='adam', loss='mean_squared_error')\n",
    "model.fit(X, Y, epochs=10, batch_size=32, verbose=1)"
   ]
  },
  {
   "cell_type": "code",
   "execution_count": 17,
   "metadata": {},
   "outputs": [
    {
     "name": "stdout",
     "output_type": "stream",
     "text": [
      "Model: \"sequential\"\n",
      "_________________________________________________________________\n",
      " Layer (type)                Output Shape              Param #   \n",
      "=================================================================\n",
      " lstm (LSTM)                 (None, 100, 50)           10400     \n",
      "                                                                 \n",
      " dropout (Dropout)           (None, 100, 50)           0         \n",
      "                                                                 \n",
      " lstm_1 (LSTM)               (None, 100, 60)           26640     \n",
      "                                                                 \n",
      " dropout_1 (Dropout)         (None, 100, 60)           0         \n",
      "                                                                 \n",
      " lstm_2 (LSTM)               (None, 100, 80)           45120     \n",
      "                                                                 \n",
      " dropout_2 (Dropout)         (None, 100, 80)           0         \n",
      "                                                                 \n",
      " lstm_3 (LSTM)               (None, 100, 100)          72400     \n",
      "                                                                 \n",
      " dropout_3 (Dropout)         (None, 100, 100)          0         \n",
      "                                                                 \n",
      " lstm_4 (LSTM)               (None, 120)               106080    \n",
      "                                                                 \n",
      " dropout_4 (Dropout)         (None, 120)               0         \n",
      "                                                                 \n",
      " dense (Dense)               (None, 1)                 121       \n",
      "                                                                 \n",
      "=================================================================\n",
      "Total params: 260761 (1018.60 KB)\n",
      "Trainable params: 260761 (1018.60 KB)\n",
      "Non-trainable params: 0 (0.00 Byte)\n",
      "_________________________________________________________________\n"
     ]
    }
   ],
   "source": [
    "model.summary()"
   ]
  },
  {
   "cell_type": "code",
   "execution_count": 18,
   "metadata": {},
   "outputs": [],
   "source": [
    "pas_100_days = train_data.tail(100)\n",
    "test_data = pd.concat([pas_100_days, test_data], ignore_index=True)\n",
    "# test_data.fillna(0, inplace=True)"
   ]
  },
  {
   "cell_type": "code",
   "execution_count": 20,
   "metadata": {},
   "outputs": [],
   "source": [
    "scale_test_data = mmc.fit_transform(test_data)"
   ]
  },
  {
   "cell_type": "code",
   "execution_count": 21,
   "metadata": {},
   "outputs": [],
   "source": [
    "X, Y = [], []\n",
    "for i in range(100, scale_test_data.shape[0]):\n",
    "    X.append(scale_test_data[i-100:i])\n",
    "    Y.append(scale_test_data[i, 0])\n",
    "\n",
    "X, Y = np.array(X), np.array(Y)"
   ]
  },
  {
   "cell_type": "code",
   "execution_count": 22,
   "metadata": {},
   "outputs": [
    {
     "name": "stdout",
     "output_type": "stream",
     "text": [
      "18/18 [==============================] - 2s 87ms/step\n"
     ]
    },
    {
     "data": {
      "text/plain": [
       "array([[0.7508584 ],\n",
       "       [0.7476529 ],\n",
       "       [0.74476516],\n",
       "       [0.7422884 ],\n",
       "       [0.7402935 ],\n",
       "       [0.7388065 ],\n",
       "       [0.73780924],\n",
       "       [0.73725295],\n",
       "       [0.7371012 ],\n",
       "       [0.73733807],\n",
       "       [0.7379742 ],\n",
       "       [0.7390177 ],\n",
       "       [0.7404716 ],\n",
       "       [0.7423347 ],\n",
       "       [0.7446078 ],\n",
       "       [0.7472933 ],\n",
       "       [0.7503922 ],\n",
       "       [0.75389826],\n",
       "       [0.75778234],\n",
       "       [0.7619922 ],\n",
       "       [0.76647043],\n",
       "       [0.77115995],\n",
       "       [0.7760048 ],\n",
       "       [0.78095067],\n",
       "       [0.7859526 ],\n",
       "       [0.7909724 ],\n",
       "       [0.7959629 ],\n",
       "       [0.80086607],\n",
       "       [0.8056171 ],\n",
       "       [0.8101331 ],\n",
       "       [0.814335  ],\n",
       "       [0.8181415 ],\n",
       "       [0.821471  ],\n",
       "       [0.8242588 ],\n",
       "       [0.8264593 ],\n",
       "       [0.8280534 ],\n",
       "       [0.8290669 ],\n",
       "       [0.82956976],\n",
       "       [0.8296603 ],\n",
       "       [0.8294538 ],\n",
       "       [0.8290604 ],\n",
       "       [0.82856673],\n",
       "       [0.8280428 ],\n",
       "       [0.8275331 ],\n",
       "       [0.82704943],\n",
       "       [0.82657444],\n",
       "       [0.8260797 ],\n",
       "       [0.82554805],\n",
       "       [0.82498   ],\n",
       "       [0.82439584],\n",
       "       [0.8238232 ],\n",
       "       [0.82329047],\n",
       "       [0.82282007],\n",
       "       [0.8224205 ],\n",
       "       [0.8220886 ],\n",
       "       [0.8218105 ],\n",
       "       [0.8215332 ],\n",
       "       [0.82117057],\n",
       "       [0.8206156 ],\n",
       "       [0.8197657 ],\n",
       "       [0.81854415],\n",
       "       [0.8169146 ],\n",
       "       [0.81487   ],\n",
       "       [0.81242776],\n",
       "       [0.80960965],\n",
       "       [0.806433  ],\n",
       "       [0.8029025 ],\n",
       "       [0.7989991 ],\n",
       "       [0.79468894],\n",
       "       [0.7899201 ],\n",
       "       [0.7846447 ],\n",
       "       [0.77883464],\n",
       "       [0.7725037 ],\n",
       "       [0.7657188 ],\n",
       "       [0.75860035],\n",
       "       [0.7513497 ],\n",
       "       [0.7442069 ],\n",
       "       [0.7374207 ],\n",
       "       [0.7312045 ],\n",
       "       [0.72571874],\n",
       "       [0.721073  ],\n",
       "       [0.717317  ],\n",
       "       [0.7144245 ],\n",
       "       [0.71230996],\n",
       "       [0.7108539 ],\n",
       "       [0.7099289 ],\n",
       "       [0.70938903],\n",
       "       [0.7090707 ],\n",
       "       [0.7088005 ],\n",
       "       [0.70840174],\n",
       "       [0.70773196],\n",
       "       [0.7067045 ],\n",
       "       [0.70529056],\n",
       "       [0.70350677],\n",
       "       [0.70140433],\n",
       "       [0.69905484],\n",
       "       [0.6965287 ],\n",
       "       [0.6938596 ],\n",
       "       [0.69104797],\n",
       "       [0.6881006 ],\n",
       "       [0.6850378 ],\n",
       "       [0.68188417],\n",
       "       [0.6786474 ],\n",
       "       [0.6753305 ],\n",
       "       [0.6719563 ],\n",
       "       [0.6685746 ],\n",
       "       [0.6652665 ],\n",
       "       [0.66213274],\n",
       "       [0.6592963 ],\n",
       "       [0.6568816 ],\n",
       "       [0.6550113 ],\n",
       "       [0.653795  ],\n",
       "       [0.65332204],\n",
       "       [0.6536586 ],\n",
       "       [0.65484154],\n",
       "       [0.6568604 ],\n",
       "       [0.6596641 ],\n",
       "       [0.663182  ],\n",
       "       [0.66732275],\n",
       "       [0.6719595 ],\n",
       "       [0.67693436],\n",
       "       [0.68206006],\n",
       "       [0.6871189 ],\n",
       "       [0.69187486],\n",
       "       [0.6961059 ],\n",
       "       [0.69961214],\n",
       "       [0.70223236],\n",
       "       [0.70386577],\n",
       "       [0.70446575],\n",
       "       [0.7040178 ],\n",
       "       [0.70251095],\n",
       "       [0.69994944],\n",
       "       [0.6963498 ],\n",
       "       [0.6917188 ],\n",
       "       [0.68607646],\n",
       "       [0.6794499 ],\n",
       "       [0.6718844 ],\n",
       "       [0.663452  ],\n",
       "       [0.654269  ],\n",
       "       [0.6444684 ],\n",
       "       [0.6341824 ],\n",
       "       [0.6235246 ],\n",
       "       [0.6125947 ],\n",
       "       [0.6014793 ],\n",
       "       [0.5902529 ],\n",
       "       [0.57899433],\n",
       "       [0.56778365],\n",
       "       [0.55670893],\n",
       "       [0.5458448 ],\n",
       "       [0.53524005],\n",
       "       [0.52491367],\n",
       "       [0.5148697 ],\n",
       "       [0.50508493],\n",
       "       [0.49551308],\n",
       "       [0.48610562],\n",
       "       [0.4768421 ],\n",
       "       [0.46774167],\n",
       "       [0.45885867],\n",
       "       [0.45028597],\n",
       "       [0.44212908],\n",
       "       [0.43449938],\n",
       "       [0.42750376],\n",
       "       [0.4212352 ],\n",
       "       [0.4157549 ],\n",
       "       [0.4110731 ],\n",
       "       [0.4071328 ],\n",
       "       [0.40381902],\n",
       "       [0.40099365],\n",
       "       [0.39850223],\n",
       "       [0.39619362],\n",
       "       [0.39395106],\n",
       "       [0.39170355],\n",
       "       [0.38942248],\n",
       "       [0.3871382 ],\n",
       "       [0.3849221 ],\n",
       "       [0.38285112],\n",
       "       [0.38098675],\n",
       "       [0.37935507],\n",
       "       [0.37794524],\n",
       "       [0.37673795],\n",
       "       [0.37572336],\n",
       "       [0.37492192],\n",
       "       [0.37438637],\n",
       "       [0.37417352],\n",
       "       [0.3743223 ],\n",
       "       [0.3748353 ],\n",
       "       [0.3756734 ],\n",
       "       [0.37676942],\n",
       "       [0.37802964],\n",
       "       [0.3793655 ],\n",
       "       [0.3807075 ],\n",
       "       [0.38200998],\n",
       "       [0.38322026],\n",
       "       [0.38427263],\n",
       "       [0.3850822 ],\n",
       "       [0.38558787],\n",
       "       [0.38577068],\n",
       "       [0.38566178],\n",
       "       [0.385328  ],\n",
       "       [0.3848579 ],\n",
       "       [0.38435972],\n",
       "       [0.3839512 ],\n",
       "       [0.38374406],\n",
       "       [0.38383353],\n",
       "       [0.38428885],\n",
       "       [0.3851623 ],\n",
       "       [0.38648736],\n",
       "       [0.3882919 ],\n",
       "       [0.39059907],\n",
       "       [0.3934217 ],\n",
       "       [0.39674753],\n",
       "       [0.40053922],\n",
       "       [0.4047252 ],\n",
       "       [0.4091909 ],\n",
       "       [0.41378903],\n",
       "       [0.41835618],\n",
       "       [0.42274493],\n",
       "       [0.42681003],\n",
       "       [0.43040913],\n",
       "       [0.43341094],\n",
       "       [0.435701  ],\n",
       "       [0.43719685],\n",
       "       [0.4378456 ],\n",
       "       [0.43762165],\n",
       "       [0.436539  ],\n",
       "       [0.43464178],\n",
       "       [0.43200743],\n",
       "       [0.4287418 ],\n",
       "       [0.42494303],\n",
       "       [0.42069215],\n",
       "       [0.41604763],\n",
       "       [0.4110495 ],\n",
       "       [0.4057253 ],\n",
       "       [0.40009165],\n",
       "       [0.39415443],\n",
       "       [0.3879158 ],\n",
       "       [0.3813761 ],\n",
       "       [0.37453783],\n",
       "       [0.36740834],\n",
       "       [0.36001456],\n",
       "       [0.35239428],\n",
       "       [0.34458375],\n",
       "       [0.336627  ],\n",
       "       [0.32859117],\n",
       "       [0.32056266],\n",
       "       [0.31264147],\n",
       "       [0.30491972],\n",
       "       [0.29747075],\n",
       "       [0.29034454],\n",
       "       [0.28356987],\n",
       "       [0.2771633 ],\n",
       "       [0.2711256 ],\n",
       "       [0.26545608],\n",
       "       [0.26015866],\n",
       "       [0.2552392 ],\n",
       "       [0.2507032 ],\n",
       "       [0.24655725],\n",
       "       [0.24281238],\n",
       "       [0.23948887],\n",
       "       [0.23657998],\n",
       "       [0.2340373 ],\n",
       "       [0.23178923],\n",
       "       [0.22974984],\n",
       "       [0.2278172 ],\n",
       "       [0.2258731 ],\n",
       "       [0.22378922],\n",
       "       [0.22144797],\n",
       "       [0.21873239],\n",
       "       [0.21552971],\n",
       "       [0.21177079],\n",
       "       [0.20746079],\n",
       "       [0.20266561],\n",
       "       [0.1975106 ],\n",
       "       [0.19215234],\n",
       "       [0.18677217],\n",
       "       [0.18154716],\n",
       "       [0.17662579],\n",
       "       [0.17213066],\n",
       "       [0.16815081],\n",
       "       [0.16474798],\n",
       "       [0.16195789],\n",
       "       [0.1597847 ],\n",
       "       [0.15821105],\n",
       "       [0.1572123 ],\n",
       "       [0.15676203],\n",
       "       [0.15683976],\n",
       "       [0.1574229 ],\n",
       "       [0.15847206],\n",
       "       [0.15992087],\n",
       "       [0.161673  ],\n",
       "       [0.16360843],\n",
       "       [0.16559842],\n",
       "       [0.16752724],\n",
       "       [0.16930123],\n",
       "       [0.17083757],\n",
       "       [0.17206308],\n",
       "       [0.17291124],\n",
       "       [0.17332636],\n",
       "       [0.17326939],\n",
       "       [0.17271614],\n",
       "       [0.17166024],\n",
       "       [0.17009908],\n",
       "       [0.16802835],\n",
       "       [0.16545746],\n",
       "       [0.1624103 ],\n",
       "       [0.15894128],\n",
       "       [0.15511613],\n",
       "       [0.15099157],\n",
       "       [0.14649615],\n",
       "       [0.14165637],\n",
       "       [0.13654865],\n",
       "       [0.13128433],\n",
       "       [0.12603684],\n",
       "       [0.12090637],\n",
       "       [0.11604401],\n",
       "       [0.11139241],\n",
       "       [0.10705076],\n",
       "       [0.10310778],\n",
       "       [0.09964358],\n",
       "       [0.09673168],\n",
       "       [0.09444481],\n",
       "       [0.0928298 ],\n",
       "       [0.09193752],\n",
       "       [0.09186177],\n",
       "       [0.09271398],\n",
       "       [0.09455284],\n",
       "       [0.09746271],\n",
       "       [0.10143455],\n",
       "       [0.10648721],\n",
       "       [0.11246122],\n",
       "       [0.11919909],\n",
       "       [0.12658085],\n",
       "       [0.13436489],\n",
       "       [0.14225283],\n",
       "       [0.14997745],\n",
       "       [0.15732184],\n",
       "       [0.16411704],\n",
       "       [0.17023763],\n",
       "       [0.17559199],\n",
       "       [0.18011795],\n",
       "       [0.18378045],\n",
       "       [0.18655698],\n",
       "       [0.18841304],\n",
       "       [0.18934837],\n",
       "       [0.18939415],\n",
       "       [0.18861341],\n",
       "       [0.18709888],\n",
       "       [0.18496975],\n",
       "       [0.1823605 ],\n",
       "       [0.17940854],\n",
       "       [0.17624079],\n",
       "       [0.17296259],\n",
       "       [0.16965625],\n",
       "       [0.16638975],\n",
       "       [0.16323611],\n",
       "       [0.16026711],\n",
       "       [0.15757295],\n",
       "       [0.15525249],\n",
       "       [0.15341781],\n",
       "       [0.15219563],\n",
       "       [0.15170547],\n",
       "       [0.15204473],\n",
       "       [0.1532726 ],\n",
       "       [0.15539335],\n",
       "       [0.1583586 ],\n",
       "       [0.16204327],\n",
       "       [0.16628578],\n",
       "       [0.17094243],\n",
       "       [0.17589149],\n",
       "       [0.18103203],\n",
       "       [0.18630667],\n",
       "       [0.19167078],\n",
       "       [0.1970895 ],\n",
       "       [0.20252837],\n",
       "       [0.20796117],\n",
       "       [0.21337532],\n",
       "       [0.21875753],\n",
       "       [0.22408359],\n",
       "       [0.22931668],\n",
       "       [0.23441423],\n",
       "       [0.23933335],\n",
       "       [0.24403833],\n",
       "       [0.24849449],\n",
       "       [0.25266773],\n",
       "       [0.2565416 ],\n",
       "       [0.26012003],\n",
       "       [0.26342183],\n",
       "       [0.26646805],\n",
       "       [0.2692771 ],\n",
       "       [0.27185965],\n",
       "       [0.27422285],\n",
       "       [0.27638084],\n",
       "       [0.27835512],\n",
       "       [0.2801898 ],\n",
       "       [0.28196853],\n",
       "       [0.28381002],\n",
       "       [0.28585005],\n",
       "       [0.28824008],\n",
       "       [0.29113203],\n",
       "       [0.29466987],\n",
       "       [0.29897475],\n",
       "       [0.30415213],\n",
       "       [0.31026334],\n",
       "       [0.31730878],\n",
       "       [0.3252433 ],\n",
       "       [0.33399427],\n",
       "       [0.3434611 ],\n",
       "       [0.35351527],\n",
       "       [0.36401176],\n",
       "       [0.374803  ],\n",
       "       [0.38575327],\n",
       "       [0.39674973],\n",
       "       [0.40767878],\n",
       "       [0.4184205 ],\n",
       "       [0.42885357],\n",
       "       [0.43886983],\n",
       "       [0.44838184],\n",
       "       [0.45732492],\n",
       "       [0.46566367],\n",
       "       [0.47338146],\n",
       "       [0.48047537],\n",
       "       [0.48693866],\n",
       "       [0.4927717 ],\n",
       "       [0.4979815 ],\n",
       "       [0.5025644 ],\n",
       "       [0.5065056 ],\n",
       "       [0.50979495],\n",
       "       [0.51243013],\n",
       "       [0.5144239 ],\n",
       "       [0.515804  ],\n",
       "       [0.5166202 ],\n",
       "       [0.51693463],\n",
       "       [0.5168112 ],\n",
       "       [0.5162967 ],\n",
       "       [0.51542276],\n",
       "       [0.51421976],\n",
       "       [0.5127447 ],\n",
       "       [0.5110879 ],\n",
       "       [0.5093604 ],\n",
       "       [0.5076761 ],\n",
       "       [0.50613254],\n",
       "       [0.5047874 ],\n",
       "       [0.50366056],\n",
       "       [0.5027486 ],\n",
       "       [0.5020388 ],\n",
       "       [0.5015476 ],\n",
       "       [0.5013243 ],\n",
       "       [0.50145566],\n",
       "       [0.5020503 ],\n",
       "       [0.5032135 ],\n",
       "       [0.5050142 ],\n",
       "       [0.5074738 ],\n",
       "       [0.5105675 ],\n",
       "       [0.514247  ],\n",
       "       [0.51845235],\n",
       "       [0.5231081 ],\n",
       "       [0.52812684],\n",
       "       [0.5334137 ],\n",
       "       [0.5388792 ],\n",
       "       [0.5444369 ],\n",
       "       [0.5499988 ],\n",
       "       [0.5554842 ],\n",
       "       [0.560812  ],\n",
       "       [0.5659071 ],\n",
       "       [0.5707083 ],\n",
       "       [0.5751872 ],\n",
       "       [0.57933617],\n",
       "       [0.5831609 ],\n",
       "       [0.5866809 ],\n",
       "       [0.5899426 ],\n",
       "       [0.5930216 ],\n",
       "       [0.59601426],\n",
       "       [0.59902084],\n",
       "       [0.602131  ],\n",
       "       [0.60540926],\n",
       "       [0.6088936 ],\n",
       "       [0.61260176],\n",
       "       [0.61653733],\n",
       "       [0.62068415],\n",
       "       [0.625014  ],\n",
       "       [0.6294992 ],\n",
       "       [0.634111  ],\n",
       "       [0.63882244],\n",
       "       [0.64360714],\n",
       "       [0.648418  ],\n",
       "       [0.65317124],\n",
       "       [0.65775394],\n",
       "       [0.662045  ],\n",
       "       [0.66591907],\n",
       "       [0.669267  ],\n",
       "       [0.6720155 ],\n",
       "       [0.6741248 ],\n",
       "       [0.67560136],\n",
       "       [0.6764849 ],\n",
       "       [0.67685026],\n",
       "       [0.67679787],\n",
       "       [0.67645276],\n",
       "       [0.67595696],\n",
       "       [0.67545426],\n",
       "       [0.6750876 ],\n",
       "       [0.6749835 ],\n",
       "       [0.6752341 ],\n",
       "       [0.67590034],\n",
       "       [0.6770176 ],\n",
       "       [0.67858994],\n",
       "       [0.68059057],\n",
       "       [0.6829579 ],\n",
       "       [0.6856086 ],\n",
       "       [0.68845975],\n",
       "       [0.69137585],\n",
       "       [0.6941582 ],\n",
       "       [0.6965705 ],\n",
       "       [0.69838196],\n",
       "       [0.6993978 ],\n",
       "       [0.6994851 ],\n",
       "       [0.6985829 ],\n",
       "       [0.6967046 ],\n",
       "       [0.69393075],\n",
       "       [0.69039804],\n",
       "       [0.6862801 ],\n",
       "       [0.68176144],\n",
       "       [0.6770303 ],\n",
       "       [0.6722665 ],\n",
       "       [0.66763896],\n",
       "       [0.66330564],\n",
       "       [0.6594156 ],\n",
       "       [0.65609336],\n",
       "       [0.6534353 ],\n",
       "       [0.6515094 ],\n",
       "       [0.65036094],\n",
       "       [0.6500037 ],\n",
       "       [0.6504185 ],\n",
       "       [0.65155935],\n",
       "       [0.6533485 ],\n",
       "       [0.6556715 ],\n",
       "       [0.6583834 ],\n",
       "       [0.6613116 ],\n",
       "       [0.66428   ],\n",
       "       [0.667122  ],\n",
       "       [0.66972476],\n",
       "       [0.67202854],\n",
       "       [0.67400897],\n",
       "       [0.6756598 ],\n",
       "       [0.6769868 ],\n",
       "       [0.67799985],\n",
       "       [0.67871356],\n",
       "       [0.679163  ],\n",
       "       [0.67940694],\n",
       "       [0.6795284 ],\n",
       "       [0.67963433],\n",
       "       [0.679847  ],\n",
       "       [0.6802901 ],\n",
       "       [0.6810688 ],\n",
       "       [0.6822584 ]], dtype=float32)"
      ]
     },
     "execution_count": 22,
     "metadata": {},
     "output_type": "execute_result"
    }
   ],
   "source": [
    "Y_pred = model.predict(X)\n",
    "Y_pred"
   ]
  },
  {
   "cell_type": "code",
   "execution_count": 24,
   "metadata": {},
   "outputs": [
    {
     "name": "stdout",
     "output_type": "stream",
     "text": [
      "[0.01487675] [67.21900177]\n"
     ]
    }
   ],
   "source": [
    "scale = 1/mmc.scale_\n",
    "print(mmc.scale_, scale)"
   ]
  },
  {
   "cell_type": "code",
   "execution_count": 25,
   "metadata": {},
   "outputs": [],
   "source": [
    "Y_pred *= scale\n",
    "Y *= scale"
   ]
  },
  {
   "cell_type": "code",
   "execution_count": 28,
   "metadata": {},
   "outputs": [
    {
     "data": {
      "image/png": "[encoded data removed]",
      "text/plain": [
       "<Figure size 1000x700 with 1 Axes>"
      ]
     },
     "metadata": {},
     "output_type": "display_data"
    }
   ],
   "source": [
    "plt.figure(figsize=(10, 7))\n",
    "plt.plot(Y_pred, 'r', label='Predicted Price')\n",
    "plt.plot(Y, 'g', label='Actual Price')\n",
    "plt.xlabel('Time')\n",
    "plt.ylabel('Price')\n",
    "plt.legend()\n",
    "plt.show()"
   ]
  },
  {
   "cell_type": "code",
   "execution_count": 29,
   "metadata": {},
   "outputs": [],
   "source": [
    "model.save('C:/Users/hp/Python_Projects/Resume_Projects/Stock Price Prediction Model.keras')"
   ]
  },
  {
   "cell_type": "markdown",
   "metadata": {},
   "source": [
    "<h2 style='color:blue'>Train Test Split</h2>"
   ]
  },
  {
   "cell_type": "code",
   "execution_count": null,
   "metadata": {},
   "outputs": [],
   "source": [
    "from sklearn.model_selection import train_test_split\n",
    "\n",
    "X_train, X_test, Y_train, Y_test = train_test_split(X, Y, test_size=0.2, random_state=50)"
   ]
  },
  {
   "cell_type": "markdown",
   "metadata": {},
   "source": [
    "<h2 style='color:blue'>Implementation of KNN Classifier</h2>"
   ]
  },
  {
   "cell_type": "code",
   "execution_count": null,
   "metadata": {},
   "outputs": [],
   "source": [
    "from sklearn.neighbors import KNeighborsClassifier\n",
    "from sklearn.model_selection import GridSearchCV, RandomizedSearchCV"
   ]
  },
  {
   "cell_type": "code",
   "execution_count": null,
   "metadata": {},
   "outputs": [],
   "source": [
    "params = {'n_neighbors': [x for x in range(1, 16)]}\n",
    "knn = KNeighborsClassifier()\n",
    "\n",
    "# using gridsearchcv to find the best parameter\n",
    "model = GridSearchCV(knn, params, cv=5)\n",
    "model.fit(X_train, Y_train)"
   ]
  },
  {
   "cell_type": "code",
   "execution_count": null,
   "metadata": {},
   "outputs": [],
   "source": [
    "# predict the model train data\n",
    "Y_train_pred = model.predict(X_train)\n",
    "Y_train_pred"
   ]
  },
  {
   "cell_type": "code",
   "execution_count": null,
   "metadata": {},
   "outputs": [],
   "source": [
    "# predict the model test data\n",
    "Y_test_pred = model.predict(X_test)\n",
    "Y_test_pred"
   ]
  },
  {
   "cell_type": "code",
   "execution_count": null,
   "metadata": {},
   "outputs": [],
   "source": [
    "# Accuracy Score\n",
    "from sklearn.metrics import accuracy_score\n",
    "\n",
    "train_score = accuracy_score(Y_train, Y_train_pred)\n",
    "print(\"Accuracy of Train data: {:.2f}%\".format(train_score*100))"
   ]
  },
  {
   "cell_type": "code",
   "execution_count": null,
   "metadata": {},
   "outputs": [],
   "source": [
    "# Classification Report\n",
    "from sklearn.metrics import classification_report\n",
    "\n",
    "print(classification_report(Y_train, Y_train_pred))"
   ]
  },
  {
   "cell_type": "code",
   "execution_count": null,
   "metadata": {},
   "outputs": [],
   "source": [
    "# Confusion Matrix\n",
    "from sklearn.metrics import confusion_matrix\n",
    "\n",
    "cm_train = confusion_matrix(Y_train, Y_train_pred)\n",
    "print(cm_train)"
   ]
  },
  {
   "cell_type": "code",
   "execution_count": null,
   "metadata": {},
   "outputs": [],
   "source": [
    "def picture(cm):\n",
    "    plt.figure(figsize=(10, 5))\n",
    "    sns.heatmap(cm, annot=True)\n",
    "    plt.xlabel('Predicted Data')\n",
    "    plt.ylabel('Actual Data')"
   ]
  },
  {
   "cell_type": "code",
   "execution_count": null,
   "metadata": {},
   "outputs": [],
   "source": [
    "# Picture of Confusion Matrix\n",
    "picture(cm_train)"
   ]
  },
  {
   "cell_type": "code",
   "execution_count": null,
   "metadata": {},
   "outputs": [],
   "source": [
    "test_score = accuracy_score(Y_test, Y_test_pred)\n",
    "print('Accuracy of Train data: {:.2f}%'.format(test_score*100))"
   ]
  },
  {
   "cell_type": "code",
   "execution_count": null,
   "metadata": {},
   "outputs": [],
   "source": [
    "print(classification_report(Y_test, Y_test_pred))"
   ]
  },
  {
   "cell_type": "code",
   "execution_count": null,
   "metadata": {},
   "outputs": [],
   "source": [
    "cm_test = confusion_matrix(Y_train, Y_train_pred)\n",
    "print(cm_test)"
   ]
  },
  {
   "cell_type": "code",
   "execution_count": null,
   "metadata": {},
   "outputs": [],
   "source": [
    "picture(cm_test)"
   ]
  },
  {
   "cell_type": "code",
   "execution_count": null,
   "metadata": {},
   "outputs": [],
   "source": [
    "actual_predicted_data = pd.DataFrame({'Actual Data': Y_test, 'Predicted Data': Y_test_pred})\n",
    "actual_predicted_data.head(10)"
   ]
  },
  {
   "cell_type": "code",
   "execution_count": null,
   "metadata": {},
   "outputs": [],
   "source": [
    "Y = data['Close']\n",
    "Y"
   ]
  },
  {
   "cell_type": "markdown",
   "metadata": {},
   "source": [
    "<h2 style='color:blue'>Train Test Split</h2>"
   ]
  },
  {
   "cell_type": "code",
   "execution_count": null,
   "metadata": {},
   "outputs": [],
   "source": [
    "from sklearn.model_selection import train_test_split\n",
    "\n",
    "X_train, X_test, Y_train, Y_test = train_test_split(X, Y, test_size=0.2, random_state=50)"
   ]
  },
  {
   "cell_type": "markdown",
   "metadata": {},
   "source": [
    "<h2 style='color:blue'>Implementation of KNN Regression</h2>"
   ]
  },
  {
   "cell_type": "code",
   "execution_count": null,
   "metadata": {},
   "outputs": [],
   "source": [
    "from sklearn.neighbors import KNeighborsRegressor\n",
    "from sklearn.model_selection import GridSearchCV"
   ]
  },
  {
   "cell_type": "code",
   "execution_count": null,
   "metadata": {},
   "outputs": [],
   "source": [
    "params = {'n_neighbors': [x for x in range(1, 16)]}\n",
    "knn_reg = KNeighborsRegressor()\n",
    "\n",
    "# using gridsearchcv to find the best parameter\n",
    "reg_model = GridSearchCV(knn_reg, params, cv=5)\n",
    "reg_model.fit(X_train, Y_train)"
   ]
  },
  {
   "cell_type": "code",
   "execution_count": null,
   "metadata": {},
   "outputs": [],
   "source": [
    "# predict the model train data\n",
    "Y_train_pred = reg_model.predict(X_train)\n",
    "Y_train_pred"
   ]
  },
  {
   "cell_type": "code",
   "execution_count": null,
   "metadata": {},
   "outputs": [],
   "source": [
    "# predict the model train data\n",
    "Y_test_pred = reg_model.predict(X_test)\n",
    "Y_test_pred"
   ]
  },
  {
   "cell_type": "code",
   "execution_count": null,
   "metadata": {},
   "outputs": [],
   "source": [
    "actual_predicted_data = pd.DataFrame({'Actual Close Data': Y_test, 'Predicted Close Data': Y_test_pred})\n",
    "actual_predicted_data.head(10)"
   ]
  }
 ],
 "metadata": {
  "kernelspec": {
   "display_name": "Python 3",
   "language": "python",
   "name": "python3"
  },
  "language_info": {
   "codemirror_mode": {
    "name": "ipython",
    "version": 3
   },
   "file_extension": ".py",
   "mimetype": "text/x-python",
   "name": "python",
   "nbconvert_exporter": "python",
   "pygments_lexer": "ipython3",
   "version": "3.8.3"
  }
 },
 "nbformat": 4,
 "nbformat_minor": 2
}
